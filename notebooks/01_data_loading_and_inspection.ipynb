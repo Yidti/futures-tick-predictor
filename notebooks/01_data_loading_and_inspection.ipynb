{
 "cells": [
  {
   "cell_type": "markdown",
   "metadata": {},
   "source": [
    "# 資料載入與初步檢視\n"
   ]
  },
  {
   "cell_type": "markdown",
   "metadata": {},
   "source": [
    "初步載入歷史 Tick/分K 資料並進行初步檢視。\n"
   ]
  },
  {
   "cell_type": "code",
   "execution_count": null,
   "metadata": {},
   "outputs": [],
   "source": [
    "# 載入 pandas 函式庫\n",
    "import pandas as pd\n",
    "\n",
    "# TODO: 指定資料檔案路徑\n",
    "# data_path = 'path/to/your/data.csv'\n",
    "\n",
    "# TODO: 載入資料\n",
    "# try:\n",
    "#     df = pd.read_csv(data_path)\n",
    "#     print(\"資料載入成功！\")\n",
    "#     print(\"前 5 行資料：\")\n",
    "#     print(df.head())\n",
    "#     print(\"\\n資料基本資訊：\")\n",
    "#     df.info()\n",
    "#     print(\"\\n描述性統計：\")\n",
    "#     print(df.describe())\n",
    "# except FileNotFoundError:\n",
    "#     print(f\"錯誤：找不到檔案 {data_path}\")\n",
    "# except Exception as e:\n",
    "#     print(f\"載入資料時發生錯誤：{e}\")\n"
   ]
  },
  {
   "cell_type": "markdown",
   "metadata": {},
   "source": [
    "# 資料清洗\n"
   ]
  },
  {
   "cell_type": "markdown",
   "metadata": {},
   "source": [
    "處理資料中的缺失值、異常值和重複資料。\n"
   ]
  },
  {
   "cell_type": "code",
   "execution_count": null,
   "metadata": {},
   "outputs": [],
   "source": [
    "# TODO: 處理缺失值 (NaN)\n",
    "# print(\"\\n處理缺失值前：\")\n",
    "# print(df.isnull().sum())\n",
    "# df.dropna(inplace=True) # 範例：簡單刪除含有缺失值的列\n",
    "# print(\"\\n處理缺失值後：\")\n",
    "# print(df.isnull().sum())\n",
    "\n",
    "# TODO: 處理異常價格 (outliers)\n",
    "# 根據實際資料情況定義異常值判斷邏輯，例如基於標準差或 IQR\n",
    "# print(\"\\n處理異常值前：\")\n",
    "# print(df.describe())\n",
    "# # 範例：移除價格為 0 或極端值的資料\n",
    "# df = df[(df['price'] > 0) & (df['price'] < df['price'].quantile(0.99))]\n",
    "# print(\"\\n處理異常值後：\")\n",
    "# print(df.describe())\n",
    "\n",
    "# TODO: 處理重複資料\n",
    "# print(\"\\n處理重複資料前：\")\n",
    "# print(f\"重複資料筆數：{df.duplicated().sum()}\")\n",
    "# df.drop_duplicates(inplace=True)\n",
    "# print(\"\\n處理重複資料後：\")\n",
    "# print(f\"重複資料筆數：{df.duplicated().sum()}\")\n"
   ]
  },
  {
   "cell_type": "markdown",
   "metadata": {},
   "source": [
    "# 時間序列處理\n"
   ]
  },
  {
   "cell_type": "markdown",
   "metadata": {},
   "source": [
    "將時間欄位設定為索引，標準化時間格式，並處理非交易時間資料。\n"
   ]
  },
  {
   "cell_type": "code",
   "execution_count": null,
   "metadata": {},
   "outputs": [],
   "source": [
    "# TODO: 將時間欄位設定為索引\n",
    "# 假設時間欄位名稱為 'timestamp'\n",
    "# df['timestamp'] = pd.to_datetime(df['timestamp'])\n",
    "# df.set_index('timestamp', inplace=True)\n",
    "\n",
    "# TODO: 標準化時間格式 (如果需要)\n",
    "# 確保時間索引的頻率正確，例如 'T' for minute, 'S' for second\n",
    "# df = df.sort_index()\n",
    "# df = df.asfreq('T') # 範例：設定為分鐘頻率，可能需要處理缺失的時間點\n",
    "\n",
    "# TODO: 處理非交易時間資料 (如果需要)\n",
    "# 根據實際交易時間定義，移除或處理非交易時段的資料\n",
    "# 例如：只保留交易時間內的資料\n",
    "# start_time = '08:45'\n",
    "# end_time = '13:45'\n",
    "# df = df.between_time(start_time, end_time)\n",
    "\n",
    "# print(\"\\n時間序列處理後：\")\n",
    "# print(df.head())\n",
    "# print(df.index.dtype)\n"
   ]
  },
  {
   "cell_type": "markdown",
   "metadata": {},
   "source": [
    "# 初步探索性資料分析 (EDA)\n"
   ]
  },
  {
   "cell_type": "markdown",
   "metadata": {},
   "source": [
    "進行初步的探索性資料分析，可視化價格、成交量等數據。\n"
   ]
  },
  {
   "cell_type": "code",
   "execution_count": null,
   "metadata": {},
   "outputs": [],
   "source": [
    "import matplotlib.pyplot as plt\n",
    "# import seaborn as sns # 如果需要使用 seaborn\n",
    "\n",
    "# TODO: 繪製價格 (開高低收) 走勢圖\n",
    "# plt.figure(figsize=(12, 6))\n",
    "# plt.plot(df.index, df['close'], label='收盤價')\n",
    "# plt.title('價格走勢圖')\n",
    "# plt.xlabel('時間')\n",
    "# plt.ylabel('價格')\n",
    "# plt.legend()\n",
    "# plt.show()\n",
    "\n",
    "# TODO: 繪製成交量變化圖\n",
    "# plt.figure(figsize=(12, 6))\n",
    "# plt.bar(df.index, df['volume'], label='成交量')\n",
    "# plt.title('成交量變化圖')\n",
    "# plt.xlabel('時間')\n",
    "# plt.ylabel('成交量')\n",
    "# plt.legend()\n",
    "# plt.show()\n",
    "\n",
    "# TODO: 基礎波動率分析 (e.g., 日報酬率標準差)\n",
    "# 如果資料是 Tick 或分K，可能需要先 resampling 到日頻率\n",
    "# daily_returns = df['close'].resample('D').ffill().pct_change().dropna()\n",
    "# daily_volatility = daily_returns.std()\n",
    "# print(f\"\\n日報酬率標準差 (波動率): {daily_volatility:.4f}\")\n",
    "\n",
    "# TODO: 價格與成交量分佈圖\n",
    "# plt.figure(figsize=(12, 6))\n",
    "# plt.subplot(1, 2, 1)\n",
    "# sns.histplot(df['close'], kde=True)\n",
    "# plt.title('價格分佈')\n",
    "# plt.xlabel('價格')\n",
    "# plt.ylabel('頻率')\n",
    "\n",
    "# plt.subplot(1, 2, 2)\n",
    "# sns.histplot(df['volume'], kde=True)\n",
    "# plt.title('成交量分佈')\n",
    "# plt.xlabel('成交量')\n",
    "# plt.ylabel('頻率')\n",
    "# plt.tight_layout()\n",
    "# plt.show()\n"
   ]
  },
  {
   "cell_type": "markdown",
   "metadata": {},
   "source": [
    "# 技術指標特徵工程 (基礎)\n"
   ]
  },
  {
   "cell_type": "markdown",
   "metadata": {},
   "source": [
    "計算基礎的技術指標作為初步特徵。\n"
   ]
  },
  {
   "cell_type": "code",
   "execution_count": null,
   "metadata": {},
   "outputs": [],
   "source": [
    "# TODO: 計算基礎技術指標 (e.g., SMA, EMA, RSI)\n",
    "# 需要安裝 ta-lib 或使用 pandas 內建函數\n",
    "# 例如使用 pandas rolling 計算 SMA\n",
    "# df['SMA_10'] = df['close'].rolling(window=10).mean()\n",
    "\n",
    "# 例如使用 ta-lib (需要先安裝)\n",
    "# import talib\n",
    "# df['RSI_14'] = talib.RSI(df['close'], timeperiod=14)\n",
    "\n",
    "# TODO: 考慮將特徵工程函數移至 features/feature_engineering.py\n",
    "# from features.feature_engineering import calculate_sma\n",
    "# df['SMA_20'] = calculate_sma(df['close'], window=20)\n",
    "\n",
    "# print(\"\\n新增技術指標特徵後：\")\n",
    "# print(df.head())\n"
   ]
  },
  {
   "cell_type": "markdown",
   "metadata": {},
   "source": [
    "# 製作標註欄位 (Target Labeling)\n"
   ]
  },
  {
   "cell_type": "markdown",
   "metadata": {},
   "source": [
    "定義預測目標並創建對應的標註欄位。\n"
   ]
  },
  {
   "cell_type": "code",
   "execution_count": null,
   "metadata": {},
   "outputs": [],
   "source": [
    "# TODO: 定義預測目標 (e.g., 未來 N Tick/分鐘 後價格漲跌幅是否超過 X%)\n",
    "# 範例：預測未來 5 分鐘收盤價是否上漲超過 0.1%\n",
    "# lookahead_window = '5T' # 5 分鐘\n",
    "# price_change_threshold = 0.001 # 0.1%\n",
    "\n",
    "# TODO: 創建標註欄位\n",
    "# future_price = df['close'].shift(-pd.Timedelta(lookahead_window))\n",
    "# price_change = (future_price - df['close']) / df['close']\n",
    "# df['target_price_up'] = (price_change > price_change_threshold).astype(int)\n",
    "\n",
    "# TODO: 處理標註欄位中的 NaN (由於 shift 操作會產生 NaN)\n",
    "# df.dropna(subset=['target_price_up'], inplace=True)\n",
    "\n",
    "# TODO: 考慮將標註函數移至 features/labeling.py\n",
    "# from features.labeling import create_up_down_label\n",
    "# df['target_up_down'] = create_up_down_label(df['close'], window='10T', threshold=0.002)\n",
    "\n",
    "# print(\"\\n新增標註欄位後：\")\n",
    "# print(df.head())\n",
    "# print(\"\\n標註欄位分佈：\")\n",
    "# print(df['target_price_up'].value_counts())\n"
   ]
  }
 ],
 "metadata": {
  "kernelspec": {
   "display_name": "Python 3",
   "language": "python",
   "name": "python3"
  },
  "language_info": {
   "codemirror_mode": {
    "name": "ipython",
    "version": 3
   },
   "file_extension": ".py",
   "mimetype": "text/x-python",
   "name": "python",
   "nbconvert_exporter": "python",
   "pygments_lexer": "ipython3",
   "version": "3.x"
  }
 },
 "nbformat": 4,
 "nbformat_minor": 4
}