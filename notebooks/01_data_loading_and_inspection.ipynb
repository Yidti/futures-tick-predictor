{
 "cells": [
  {
   "cell_type": "markdown",
   "metadata": {},
   "source": [
    "# 資料載入與初步檢視\n"
   ]
  },
  {
   "cell_type": "markdown",
   "metadata": {},
   "source": [
    "初步載入歷史 Tick/分K 資料並進行初步檢視。\n"
   ]
  },
  {
   "cell_type": "code",
   "execution_count": 55,
   "metadata": {},
   "outputs": [
    {
     "name": "stdout",
     "output_type": "stream",
     "text": [
      "資料載入成功！\n",
      "前 5 行資料：\n",
      "             ts    close  volume  bid_price  bid_volume  ask_price  \\\n",
      "0  1.743433e+18  20807.0    89.0        0.0         0.0        0.0   \n",
      "1  1.743433e+18  20808.0     2.0    20807.0         5.0    20808.0   \n",
      "3  1.743433e+18  20809.0     1.0    20807.0         5.0    20808.0   \n",
      "5  1.743433e+18  20807.0     1.0    20807.0         5.0    20810.0   \n",
      "6  1.743433e+18  20807.0     1.0    20807.0         6.0    20810.0   \n",
      "\n",
      "   ask_volume  tick_type               timestamp  is_traffic_limited  \n",
      "0         0.0        1.0 2025-03-31 15:00:00.021               False  \n",
      "1         2.0        1.0 2025-03-31 15:00:00.045               False  \n",
      "3         2.0        1.0 2025-03-31 15:00:00.051               False  \n",
      "5        15.0        2.0 2025-03-31 15:00:00.118               False  \n",
      "6        18.0        2.0 2025-03-31 15:00:00.176               False  \n",
      "\n",
      "資料基本資訊：\n",
      "<class 'pandas.core.frame.DataFrame'>\n",
      "Index: 3623517 entries, 0 to 126096\n",
      "Data columns (total 10 columns):\n",
      " #   Column              Dtype         \n",
      "---  ------              -----         \n",
      " 0   ts                  float64       \n",
      " 1   close               float64       \n",
      " 2   volume              float64       \n",
      " 3   bid_price           float64       \n",
      " 4   bid_volume          float64       \n",
      " 5   ask_price           float64       \n",
      " 6   ask_volume          float64       \n",
      " 7   tick_type           float64       \n",
      " 8   timestamp           datetime64[ns]\n",
      " 9   is_traffic_limited  bool          \n",
      "dtypes: bool(1), datetime64[ns](1), float64(8)\n",
      "memory usage: 279.9 MB\n",
      "\n",
      "描述性統計：\n",
      "                 ts         close        volume     bid_price    bid_volume  \\\n",
      "count  3.623513e+06  3.623513e+06  3.623513e+06  3.623513e+06  3.623513e+06   \n",
      "mean   1.744626e+18  1.926879e+04  1.497686e+00  1.925888e+04  6.805559e+00   \n",
      "min    1.743433e+18  1.701500e+04  1.000000e+00  0.000000e+00  0.000000e+00   \n",
      "25%    1.744153e+18  1.863300e+04  1.000000e+00  1.863000e+04  2.000000e+00   \n",
      "50%    1.744401e+18  1.934800e+04  1.000000e+00  1.934700e+04  3.000000e+00   \n",
      "75%    1.745272e+18  1.980800e+04  1.000000e+00  1.980700e+04  6.000000e+00   \n",
      "max    1.746021e+18  2.166800e+04  3.109000e+03  2.166700e+04  9.106000e+03   \n",
      "std    6.879774e+14  9.996812e+02  2.797278e+00  1.081964e+03  1.055753e+02   \n",
      "\n",
      "          ask_price    ask_volume     tick_type                      timestamp  \n",
      "count  3.623513e+06  3.623513e+06  3.623513e+06                        3623517  \n",
      "mean   1.926061e+04  1.067481e+01  1.457928e+00  2025-04-14 10:26:09.695814912  \n",
      "min    0.000000e+00  0.000000e+00  0.000000e+00     2025-03-31 15:00:00.021000  \n",
      "25%    1.863200e+04  2.000000e+00  1.000000e+00  2025-04-08 22:50:53.160999936  \n",
      "50%    1.934900e+04  3.000000e+00  1.000000e+00  2025-04-11 19:56:29.321999872  \n",
      "75%    1.980900e+04  6.000000e+00  2.000000e+00     2025-04-21 21:52:09.500000  \n",
      "max    2.166900e+04  1.717600e+04  2.000000e+00     2025-04-30 13:44:59.770000  \n",
      "std    1.086464e+03  2.713627e+02  5.545942e-01                            NaN  \n"
     ]
    }
   ],
   "source": [
    "# 載入 pandas 函式庫\n",
    "import pandas as pd\n",
    "\n",
    "# TODO: 指定資料檔案路徑\n",
    "data_path = '../data/ticks_2025-04.parquet'\n",
    "\n",
    "# TODO: 載入資料\n",
    "try:\n",
    "    df = pd.read_parquet(data_path)\n",
    "    print(\"資料載入成功！\")\n",
    "    print(\"前 5 行資料：\")\n",
    "    print(df.head())\n",
    "    print(\"\\n資料基本資訊：\")\n",
    "    df.info()\n",
    "    print(\"\\n描述性統計：\")\n",
    "    print(df.describe())\n",
    "except FileNotFoundError:\n",
    "    print(f\"錯誤：找不到檔案 {data_path}\")\n",
    "except Exception as e:\n",
    "    print(f\"載入資料時發生錯誤：{e}\")\n"
   ]
  },
  {
   "cell_type": "code",
   "execution_count": 56,
   "metadata": {},
   "outputs": [
    {
     "data": {
      "text/plain": [
       "3623517"
      ]
     },
     "execution_count": 56,
     "metadata": {},
     "output_type": "execute_result"
    }
   ],
   "source": [
    "df.columns\n",
    "len(df)"
   ]
  },
  {
   "cell_type": "markdown",
   "metadata": {},
   "source": [
    "# 資料清洗\n"
   ]
  },
  {
   "cell_type": "markdown",
   "metadata": {},
   "source": [
    "處理資料中的缺失值、異常值和重複資料。\n"
   ]
  },
  {
   "cell_type": "code",
   "execution_count": 57,
   "metadata": {},
   "outputs": [
    {
     "name": "stdout",
     "output_type": "stream",
     "text": [
      "\n",
      "處理缺失值前：\n",
      "ts                    4\n",
      "close                 4\n",
      "volume                4\n",
      "bid_price             4\n",
      "bid_volume            4\n",
      "ask_price             4\n",
      "ask_volume            4\n",
      "tick_type             4\n",
      "timestamp             0\n",
      "is_traffic_limited    0\n",
      "dtype: int64\n",
      "\n",
      "處理缺失值後：\n",
      "ts                    0\n",
      "close                 0\n",
      "volume                0\n",
      "bid_price             0\n",
      "bid_volume            0\n",
      "ask_price             0\n",
      "ask_volume            0\n",
      "tick_type             0\n",
      "timestamp             0\n",
      "is_traffic_limited    0\n",
      "dtype: int64\n",
      "\n",
      "處理異常值前：\n",
      "                 ts         close        volume     bid_price    bid_volume  \\\n",
      "count  3.623513e+06  3.623513e+06  3.623513e+06  3.623513e+06  3.623513e+06   \n",
      "mean   1.744626e+18  1.926879e+04  1.497686e+00  1.925888e+04  6.805559e+00   \n",
      "min    1.743433e+18  1.701500e+04  1.000000e+00  0.000000e+00  0.000000e+00   \n",
      "25%    1.744153e+18  1.863300e+04  1.000000e+00  1.863000e+04  2.000000e+00   \n",
      "50%    1.744401e+18  1.934800e+04  1.000000e+00  1.934700e+04  3.000000e+00   \n",
      "75%    1.745272e+18  1.980800e+04  1.000000e+00  1.980700e+04  6.000000e+00   \n",
      "max    1.746021e+18  2.166800e+04  3.109000e+03  2.166700e+04  9.106000e+03   \n",
      "std    6.879774e+14  9.996812e+02  2.797278e+00  1.081964e+03  1.055753e+02   \n",
      "\n",
      "          ask_price    ask_volume     tick_type                      timestamp  \n",
      "count  3.623513e+06  3.623513e+06  3.623513e+06                        3623513  \n",
      "mean   1.926061e+04  1.067481e+01  1.457928e+00  2025-04-14 10:26:09.546533376  \n",
      "min    0.000000e+00  0.000000e+00  0.000000e+00     2025-03-31 15:00:00.021000  \n",
      "25%    1.863200e+04  2.000000e+00  1.000000e+00  2025-04-08 22:50:53.160999936  \n",
      "50%    1.934900e+04  3.000000e+00  1.000000e+00  2025-04-11 19:56:29.299000064  \n",
      "75%    1.980900e+04  6.000000e+00  2.000000e+00     2025-04-21 21:52:09.500000  \n",
      "max    2.166900e+04  1.717600e+04  2.000000e+00     2025-04-30 13:44:59.770000  \n",
      "std    1.086464e+03  2.713627e+02  5.545942e-01                            NaN  \n",
      "\n",
      "處理異常值後：\n",
      "                 ts         close        volume     bid_price    bid_volume  \\\n",
      "count  3.587188e+06  3.587188e+06  3.587188e+06  3.587188e+06  3.587188e+06   \n",
      "mean   1.744636e+18  1.924629e+04  1.496839e+00  1.923629e+04  6.805043e+00   \n",
      "min    1.743433e+18  1.701500e+04  1.000000e+00  0.000000e+00  0.000000e+00   \n",
      "25%    1.744159e+18  1.862400e+04  1.000000e+00  1.862100e+04  2.000000e+00   \n",
      "50%    1.744406e+18  1.934300e+04  1.000000e+00  1.934200e+04  3.000000e+00   \n",
      "75%    1.745274e+18  1.978800e+04  1.000000e+00  1.978800e+04  6.000000e+00   \n",
      "max    1.746021e+18  2.140500e+04  3.109000e+03  2.140700e+04  9.106000e+03   \n",
      "std    6.842831e+14  9.792611e+02  2.806920e+00  1.063749e+03  1.061068e+02   \n",
      "\n",
      "          ask_price    ask_volume     tick_type                      timestamp  \n",
      "count  3.587188e+06  3.587188e+06  3.587188e+06                        3587188  \n",
      "mean   1.923802e+04  1.070669e+01  1.458078e+00  2025-04-14 13:11:52.585824768  \n",
      "min    0.000000e+00  0.000000e+00  0.000000e+00     2025-03-31 15:00:00.021000  \n",
      "25%    1.862300e+04  2.000000e+00  1.000000e+00  2025-04-09 00:38:39.641250048  \n",
      "50%    1.934400e+04  3.000000e+00  1.000000e+00  2025-04-11 21:21:36.976999936  \n",
      "75%    1.979000e+04  6.000000e+00  2.000000e+00  2025-04-21 22:18:03.833250048  \n",
      "max    2.141200e+04  1.717600e+04  2.000000e+00     2025-04-30 13:44:59.770000  \n",
      "std    1.068371e+03  2.727314e+02  5.547185e-01                            NaN  \n",
      "\n",
      "處理重複資料前：\n",
      "重複資料筆數：0\n",
      "\n",
      "處理重複資料後：\n",
      "重複資料筆數：0\n"
     ]
    }
   ],
   "source": [
    "# TODO: 處理缺失值 (NaN)\n",
    "print(\"\\n處理缺失值前：\")\n",
    "print(df.isnull().sum())\n",
    "df = df.dropna() # 範例：簡單刪除含有缺失值的列\n",
    "print(\"\\n處理缺失值後：\")\n",
    "print(df.isnull().sum())\n",
    "\n",
    "# TODO: 處理異常價格 (outliers)\n",
    "# 根據實際資料情況定義異常值判斷邏輯，例如基於標準差或 IQR\n",
    "print(\"\\n處理異常值前：\")\n",
    "print(df.describe())\n",
    "# 範例：移除價格為 0 或極端值的資料\n",
    "df = df[(df['close'] > 0) & (df['close'] < df['close'].quantile(0.99))]\n",
    "print(\"\\n處理異常值後：\")\n",
    "print(df.describe())\n",
    "\n",
    "# TODO: 處理重複資料\n",
    "print(\"\\n處理重複資料前：\")\n",
    "print(f\"重複資料筆數：{df.duplicated().sum()}\")\n",
    "df = df.drop_duplicates(subset=['timestamp'])\n",
    "print(\"\\n處理重複資料後：\")\n",
    "print(f\"重複資料筆數：{df.duplicated().sum()}\")\n"
   ]
  },
  {
   "cell_type": "code",
   "execution_count": 58,
   "metadata": {},
   "outputs": [
    {
     "name": "stdout",
     "output_type": "stream",
     "text": [
      "Timestamp 範圍：\n",
      "最早時間: 2025-03-31 15:00:00.021000\n",
      "最晚時間: 2025-04-30 13:44:59.770000\n"
     ]
    }
   ],
   "source": [
    "print(\"Timestamp 範圍：\")\n",
    "print(f\"最早時間: {df['timestamp'].min()}\")\n",
    "print(f\"最晚時間: {df['timestamp'].max()}\")\n",
    "   "
   ]
  },
  {
   "cell_type": "markdown",
   "metadata": {},
   "source": [
    "# 時間序列處理\n"
   ]
  },
  {
   "cell_type": "markdown",
   "metadata": {},
   "source": [
    "將時間欄位設定為索引，標準化時間格式，並處理非交易時間資料。\n"
   ]
  },
  {
   "cell_type": "code",
   "execution_count": 59,
   "metadata": {},
   "outputs": [
    {
     "name": "stdout",
     "output_type": "stream",
     "text": [
      "\n",
      "時間序列處理後：\n",
      "                                   ts    close  volume  bid_price  bid_volume  \\\n",
      "timestamp                                                                       \n",
      "2025-03-31 15:00:00.021  1.743433e+18  20807.0    89.0        0.0         0.0   \n",
      "2025-03-31 15:00:00.045  1.743433e+18  20808.0     2.0    20807.0         5.0   \n",
      "2025-03-31 15:00:00.051  1.743433e+18  20809.0     1.0    20807.0         5.0   \n",
      "2025-03-31 15:00:00.118  1.743433e+18  20807.0     1.0    20807.0         5.0   \n",
      "2025-03-31 15:00:00.176  1.743433e+18  20807.0     1.0    20807.0         6.0   \n",
      "\n",
      "                         ask_price  ask_volume  tick_type  is_traffic_limited  \n",
      "timestamp                                                                      \n",
      "2025-03-31 15:00:00.021        0.0         0.0        1.0               False  \n",
      "2025-03-31 15:00:00.045    20808.0         2.0        1.0               False  \n",
      "2025-03-31 15:00:00.051    20808.0         2.0        1.0               False  \n",
      "2025-03-31 15:00:00.118    20810.0        15.0        2.0               False  \n",
      "2025-03-31 15:00:00.176    20810.0        18.0        2.0               False  \n",
      "datetime64[ns]\n"
     ]
    }
   ],
   "source": [
    "# TODO: 將時間欄位設定為索引\n",
    "# 假設時間欄位名稱為 'timestamp'\n",
    "df['timestamp'] = pd.to_datetime(df['timestamp'])\n",
    "df.set_index('timestamp', inplace=True)\n",
    "\n",
    "# TODO: 標準化時間格式 (如果需要)\n",
    "# 確保時間索引的頻率正確，例如 'T' for minute, 'S' for second\n",
    "df = df.sort_index()\n",
    "\n",
    "# TODO: 處理非交易時間資料 (如果需要)\n",
    "# 根據實際交易時間定義，移除或處理非交易時段的資料\n",
    "# 例如：只保留交易時間內的資料\n",
    "# 定義交易時間範圍 (日盤和夜盤)\n",
    "day_start = '08:45'\n",
    "day_end = '13:45'\n",
    "night_start = '15:00'\n",
    "night_end = '05:00'\n",
    "\n",
    "# 篩選日盤和夜盤資料\n",
    "day_session = df.between_time(day_start, day_end)\n",
    "night_session = df.between_time(night_start, night_end)\n",
    "\n",
    "# 合併日盤和夜盤資料並重新排序\n",
    "df = pd.concat([day_session, night_session]).sort_index()\n",
    "\n",
    "print(\"\\n時間序列處理後：\")\n",
    "print(df.head())\n",
    "print(df.index.dtype)\n"
   ]
  },
  {
   "cell_type": "code",
   "execution_count": 65,
   "metadata": {},
   "outputs": [
    {
     "data": {
      "text/plain": [
       "3587183"
      ]
     },
     "execution_count": 65,
     "metadata": {},
     "output_type": "execute_result"
    }
   ],
   "source": [
    "len(df)\n",
    "# df.head()"
   ]
  },
  {
   "cell_type": "markdown",
   "metadata": {},
   "source": [
    "# 初步探索性資料分析 (EDA)\n"
   ]
  },
  {
   "cell_type": "markdown",
   "metadata": {},
   "source": [
    "進行初步的探索性資料分析，可視化價格、成交量等數據。\n"
   ]
  },
  {
   "cell_type": "code",
   "execution_count": null,
   "metadata": {},
   "outputs": [],
   "source": [
    "import matplotlib.pyplot as plt\n",
    "# import seaborn as sns # 如果需要使用 seaborn\n",
    "\n",
    "# TODO: 繪製價格 (開高低收) 走勢圖\n",
    "# plt.figure(figsize=(12, 6))\n",
    "# plt.plot(df.index, df['close'], label='收盤價')\n",
    "# plt.title('價格走勢圖')\n",
    "# plt.xlabel('時間')\n",
    "# plt.ylabel('價格')\n",
    "# plt.legend()\n",
    "# plt.show()\n",
    "\n",
    "# TODO: 繪製成交量變化圖\n",
    "# plt.figure(figsize=(12, 6))\n",
    "# plt.bar(df.index, df['volume'], label='成交量')\n",
    "# plt.title('成交量變化圖')\n",
    "# plt.xlabel('時間')\n",
    "# plt.ylabel('成交量')\n",
    "# plt.legend()\n",
    "# plt.show()\n",
    "\n",
    "# TODO: 基礎波動率分析 (e.g., 日報酬率標準差)\n",
    "# 如果資料是 Tick 或分K，可能需要先 resampling 到日頻率\n",
    "# daily_returns = df['close'].resample('D').ffill().pct_change().dropna()\n",
    "# daily_volatility = daily_returns.std()\n",
    "# print(f\"\\n日報酬率標準差 (波動率): {daily_volatility:.4f}\")\n",
    "\n",
    "# TODO: 價格與成交量分佈圖\n",
    "# plt.figure(figsize=(12, 6))\n",
    "# plt.subplot(1, 2, 1)\n",
    "# sns.histplot(df['close'], kde=True)\n",
    "# plt.title('價格分佈')\n",
    "# plt.xlabel('價格')\n",
    "# plt.ylabel('頻率')\n",
    "\n",
    "# plt.subplot(1, 2, 2)\n",
    "# sns.histplot(df['volume'], kde=True)\n",
    "# plt.title('成交量分佈')\n",
    "# plt.xlabel('成交量')\n",
    "# plt.ylabel('頻率')\n",
    "# plt.tight_layout()\n",
    "# plt.show()\n"
   ]
  },
  {
   "cell_type": "markdown",
   "metadata": {},
   "source": [
    "# 技術指標特徵工程 (基礎)\n"
   ]
  },
  {
   "cell_type": "markdown",
   "metadata": {},
   "source": [
    "計算基礎的技術指標作為初步特徵。\n"
   ]
  },
  {
   "cell_type": "code",
   "execution_count": null,
   "metadata": {},
   "outputs": [],
   "source": [
    "# TODO: 計算基礎技術指標 (e.g., SMA, EMA, RSI)\n",
    "# 需要安裝 ta-lib 或使用 pandas 內建函數\n",
    "# 例如使用 pandas rolling 計算 SMA\n",
    "# df['SMA_10'] = df['close'].rolling(window=10).mean()\n",
    "\n",
    "# 例如使用 ta-lib (需要先安裝)\n",
    "# import talib\n",
    "# df['RSI_14'] = talib.RSI(df['close'], timeperiod=14)\n",
    "\n",
    "# TODO: 考慮將特徵工程函數移至 features/feature_engineering.py\n",
    "# from features.feature_engineering import calculate_sma\n",
    "# df['SMA_20'] = calculate_sma(df['close'], window=20)\n",
    "\n",
    "# print(\"\\n新增技術指標特徵後：\")\n",
    "# print(df.head())\n"
   ]
  },
  {
   "cell_type": "markdown",
   "metadata": {},
   "source": [
    "# 製作標註欄位 (Target Labeling)\n"
   ]
  },
  {
   "cell_type": "markdown",
   "metadata": {},
   "source": [
    "定義預測目標並創建對應的標註欄位。\n"
   ]
  },
  {
   "cell_type": "code",
   "execution_count": null,
   "metadata": {},
   "outputs": [],
   "source": [
    "# TODO: 定義預測目標 (e.g., 未來 N Tick/分鐘 後價格漲跌幅是否超過 X%)\n",
    "# 範例：預測未來 5 分鐘收盤價是否上漲超過 0.1%\n",
    "# lookahead_window = '5T' # 5 分鐘\n",
    "# price_change_threshold = 0.001 # 0.1%\n",
    "\n",
    "# TODO: 創建標註欄位\n",
    "# future_price = df['close'].shift(-pd.Timedelta(lookahead_window))\n",
    "# price_change = (future_price - df['close']) / df['close']\n",
    "# df['target_price_up'] = (price_change > price_change_threshold).astype(int)\n",
    "\n",
    "# TODO: 處理標註欄位中的 NaN (由於 shift 操作會產生 NaN)\n",
    "# df.dropna(subset=['target_price_up'], inplace=True)\n",
    "\n",
    "# TODO: 考慮將標註函數移至 features/labeling.py\n",
    "# from features.labeling import create_up_down_label\n",
    "# df['target_up_down'] = create_up_down_label(df['close'], window='10T', threshold=0.002)\n",
    "\n",
    "# print(\"\\n新增標註欄位後：\")\n",
    "# print(df.head())\n",
    "# print(\"\\n標註欄位分佈：\")\n",
    "# print(df['target_price_up'].value_counts())\n"
   ]
  }
 ],
 "metadata": {
  "kernelspec": {
   "display_name": "futures-tick-predictor",
   "language": "python",
   "name": "python3"
  },
  "language_info": {
   "codemirror_mode": {
    "name": "ipython",
    "version": 3
   },
   "file_extension": ".py",
   "mimetype": "text/x-python",
   "name": "python",
   "nbconvert_exporter": "python",
   "pygments_lexer": "ipython3",
   "version": "3.9.21"
  }
 },
 "nbformat": 4,
 "nbformat_minor": 4
}
